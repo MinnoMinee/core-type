{
 "cells": [
  {
   "cell_type": "code",
   "execution_count": null,
   "metadata": {},
   "outputs": [],
   "source": [
    "import numpy as np "
   ]
  },
  {
   "cell_type": "code",
   "execution_count": null,
   "metadata": {},
   "outputs": [],
   "source": [
    "def find_f(lidar_height):\n",
    "    lidar_height += 19.48 # account for the imaginary part of the triangle above the laser source\n",
    "    frequencies = [50,100,200,500,1000,2000]    \n",
    "    angle = 14.708\n",
    "    point_width = (lidar_height * np.tan(angle * (np.pi/180))) / 1600\n",
    "\n",
    "    print(\"table speed and frequency combinations:\")\n",
    "\n",
    "    for f in frequencies:\n",
    "\n",
    "        ts = point_width * f\n",
    "        print(f\" {f} Hz: {ts} mm/s\")\n",
    "\n",
    "    print(f\"'pixel size' = {point_width} mm by {point_width} mm \")\n",
    "\n",
    "\n",
    "\n",
    "def find_h(table_speed = 30, frequency = 200):\n",
    "   \n",
    "    angle = 14.708\n",
    "    point_width = table_speed/frequency\n",
    "\n",
    "    table_height = point_width/ np.tan(angle * (np.pi/180)) * 1600\n",
    "\n",
    "    lidar_height = table_height - 19.48\n",
    "\n",
    "    print(f\"ideal height for {table_speed} mm/s and {frequency} Hz = {lidar_height}\")\n",
    "\n",
    "    print(f\"'pixel size' = {point_width} mm by {point_width} mm \")\n",
    "\n"
   ]
  },
  {
   "cell_type": "code",
   "execution_count": null,
   "metadata": {},
   "outputs": [],
   "source": [
    "find_f(lidar_height = 1000)\n",
    "\n",
    "print()\n",
    "find_h()"
   ]
  }
 ],
 "metadata": {
  "kernelspec": {
   "display_name": "new_env2",
   "language": "python",
   "name": "python3"
  },
  "language_info": {
   "codemirror_mode": {
    "name": "ipython",
    "version": 3
   },
   "file_extension": ".py",
   "mimetype": "text/x-python",
   "name": "python",
   "nbconvert_exporter": "python",
   "pygments_lexer": "ipython3",
   "version": "3.10.11"
  }
 },
 "nbformat": 4,
 "nbformat_minor": 2
}
