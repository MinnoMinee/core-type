{
 "cells": [
  {
   "cell_type": "code",
   "execution_count": null,
   "metadata": {},
   "outputs": [],
   "source": [
    "import numpy as np \n",
    "from lidar_processing import ljx_processor"
   ]
  },
  {
   "cell_type": "code",
   "execution_count": 6,
   "metadata": {},
   "outputs": [],
   "source": [
    "def find_f(lidar_height):\n",
    "    lidar_height += 19.48 # account for the imaginary part of the triangle above the laser source\n",
    "    frequencies = [50,100,200,500,1000,2000]    \n",
    "    angle = 14.708\n",
    "    point_width = (lidar_height * np.tan(angle * (np.pi/180))) / 1600\n",
    "\n",
    "    print(\"table speed and frequency combinations:\")\n",
    "\n",
    "    for f in frequencies:\n",
    "\n",
    "        ts = point_width * f\n",
    "        print(f\" {f} Hz: {ts} mm/s\")\n",
    "\n",
    "    print(f\"'pixel size' = {point_width} mm by {point_width} mm \")\n",
    "\n",
    "\n",
    "\n",
    "def find_h(table_speed = 50, frequency = 200):\n",
    "   \n",
    "    angle = 14.708\n",
    "    point_width = table_speed/frequency\n",
    "\n",
    "    table_height = point_width/ np.tan(angle * (np.pi/180)) * 1600\n",
    "\n",
    "    lidar_height = table_height - 19.48\n",
    "\n",
    "    print(f\"ideal height for {table_speed} mm/s and {frequency} Hz = {lidar_height}\")\n",
    "\n",
    "    print(f\"'pixel size' = {point_width} mm by {point_width} mm \")\n",
    "\n"
   ]
  },
  {
   "cell_type": "code",
   "execution_count": 11,
   "metadata": {},
   "outputs": [
    {
     "name": "stdout",
     "output_type": "stream",
     "text": [
      "table speed and frequency combinations:\n",
      " 50 Hz: 11.250178886272604 mm/s\n",
      " 100 Hz: 22.500357772545208 mm/s\n",
      " 200 Hz: 45.000715545090415 mm/s\n",
      " 500 Hz: 112.50178886272603 mm/s\n",
      " 1000 Hz: 225.00357772545206 mm/s\n",
      " 2000 Hz: 450.0071554509041 mm/s\n",
      "'pixel size' = 0.22500357772545207 mm by 0.22500357772545207 mm \n",
      "\n",
      "ideal height for 50 mm/s and 200 Hz = 1504.3624360450294\n",
      "'pixel size' = 0.25 mm by 0.25 mm \n"
     ]
    }
   ],
   "source": [
    "find_f(lidar_height = 1352)\n",
    "print()\n",
    "find_h()\n"
   ]
  }
 ],
 "metadata": {
  "kernelspec": {
   "display_name": "Python (LP_env)",
   "language": "python",
   "name": "lp_env"
  },
  "language_info": {
   "codemirror_mode": {
    "name": "ipython",
    "version": 3
   },
   "file_extension": ".py",
   "mimetype": "text/x-python",
   "name": "python",
   "nbconvert_exporter": "python",
   "pygments_lexer": "ipython3",
   "version": "3.12.8"
  }
 },
 "nbformat": 4,
 "nbformat_minor": 2
}
