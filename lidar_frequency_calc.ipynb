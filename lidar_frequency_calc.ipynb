{
 "cells": [
  {
   "cell_type": "code",
   "execution_count": null,
   "metadata": {},
   "outputs": [],
   "source": [
    "import numpy as np \n",
    "\n",
    "import matplotlib.pyplot as plt"
   ]
  },
  {
   "cell_type": "code",
   "execution_count": null,
   "metadata": {},
   "outputs": [],
   "source": [
    "#this gives you either idela mounting heights or component parameters for a given height in order to have consistent spacing in the x and y direction \n",
    "#it can also give you the height for a given y resolution and a table speed/freq\n",
    "\n",
    "#these values may not be accurate to reality, they were found using the diagram on page 7-10 in the LJ-X8000A User Manual\n",
    "\n",
    "angle = np.arctan((360-150)/800) #degrees  \n",
    "correction_height =  (360/np.tan(angle)) - (952 + 400) #mm, difference between the laser source and the top of the imaginary triangle \n",
    "print(correction_height)\n",
    "lidar_height = 952\n",
    "\n",
    "frequencies = [50,100,200,500,1000,2000] # the frequencies that the lidar processor can actually be set to (not accurate) \n",
    "\n",
    "def find_fs(input_height): # find the ideal frequency and speed combinations for a given height \n",
    "    global lidar_height\n",
    "    lidar_height = input_height\n",
    "    point_width = (lidar_height + correction_height * np.tan(angle)) / 1600\n",
    "\n",
    "    print(f\"table speed and frequency combinations for a height of {lidar_height} mm:\")\n",
    "    for f in frequencies:\n",
    "        ts = point_width * f\n",
    "        print(f\" {f} Hz: {ts} mm/s\")\n",
    "\n",
    "    print(f\"'pixel size' = {point_width} mm by {point_width} mm \")\n",
    "\n",
    "\n",
    "def find_h(table_speed = 50, frequency = 200): # find the ideal height for square pixels at the set frquency and speed\n",
    "    global lidar_height\n",
    "    point_width = table_speed/frequency\n",
    "    table_height = point_width/ np.tan(angle) * 1600\n",
    "    lidar_height = table_height - correction_height\n",
    "\n",
    "    print(f\"ideal height for {table_speed} mm/s and {frequency} Hz = {lidar_height} mm\")\n",
    "    print(f\"'pixel size' = {point_width} mm by {point_width} mm \")\n",
    "\n",
    "def find_hfs(pixel_size_x = 0.25, pixel_size_y = 0.225): # find the ideal height and frequency/speed combo for different x and y spacings \n",
    "    global lidar_height\n",
    "    table_height = pixel_size_y/ np.tan(angle) * 1600\n",
    "    lidar_height = table_height - correction_height\n",
    "\n",
    "    print(f\"ideal height offset for {pixel_size_y} mm pixel height = {lidar_height} mm\")\n",
    "\n",
    "    print(f\"table speed and frequency combinations for a pixel width of {pixel_size_x} mm:\")\n",
    "    for f in frequencies:\n",
    "        ts = pixel_size_x * f\n",
    "        print(f\" {f} Hz: {ts} mm/s\")\n",
    "\n",
    "\n",
    "def visualize_height(): # shows the hieght in relationship to the trapezoid the laser profiler sees\n",
    "    global lidar_height\n",
    "    max_distance = 1352\n",
    "    max_width = (max_distance + correction_height) * np.tan(angle)\n",
    "    min_width = correction_height * np.tan(angle)\n",
    "    \n",
    "    top_left = (-min_width, 0)\n",
    "    top_right = (min_width, 0)\n",
    "    trap_top_left = (-(552 + correction_height)* np.tan(angle), -552)\n",
    "    trap_top_right = ((552 + correction_height)* np.tan(angle), -552)\n",
    "    bottom_left = (-max_width, -max_distance)\n",
    "    bottom_right = (max_width, -max_distance)\n",
    "\n",
    "    fig, ax = plt.subplots(figsize=(6,4))\n",
    "    \n",
    "    ax.plot([top_left[0], top_right[0]], [top_left[1], top_right[1]], 'purple', linestyle='-')\n",
    "    ax.plot([top_left[0], trap_top_left[0]], [top_left[1], trap_top_left[1]], 'purple', linestyle='--')\n",
    "    ax.plot([top_right[0], trap_top_right[0]], [top_right[1], trap_top_right[1]], 'purple', linestyle='--')\n",
    "    ax.plot([trap_top_left[0], bottom_left[0]], [trap_top_left[1], bottom_left[1]], 'gray', linestyle='-')\n",
    "    ax.plot([trap_top_right[0], bottom_right[0]], [trap_top_right[1], bottom_right[1]], 'gray', linestyle='-')\n",
    "\n",
    "    for h in [1352, 952, 552]:\n",
    "        base = (h + correction_height) * np.tan(angle)\n",
    "        ax.hlines(-h, -base, base, colors='grey', linestyles='--', label=f'{h} mm')\n",
    "\n",
    "    width = (lidar_height + correction_height) * np.tan(angle)\n",
    "\n",
    "    ax.hlines(-lidar_height, -width, width, colors='red', linestyles='--', label='ideal height')\n",
    "\n",
    "    ax.set_xlabel('Width (mm)')\n",
    "    ax.set_ylabel('Height (mm)')\n",
    "    ax.set_title('Ideal Height Plot')\n",
    "    ax.legend(loc='upper right')\n",
    "    ax.grid(True)\n",
    "    plt.show()\n",
    "\n",
    "   \n",
    "\n"
   ]
  },
  {
   "cell_type": "code",
   "execution_count": null,
   "metadata": {},
   "outputs": [],
   "source": [
    "find_h(table_speed = 50, frequency = 250)\n",
    "visualize_height()"
   ]
  },
  {
   "cell_type": "code",
   "execution_count": null,
   "metadata": {},
   "outputs": [],
   "source": [
    "find_fs(952)\n",
    "visualize_height()"
   ]
  },
  {
   "cell_type": "code",
   "execution_count": null,
   "metadata": {},
   "outputs": [],
   "source": [
    "find_hfs(0.1,0.1)\n",
    "visualize_height()"
   ]
  }
 ],
 "metadata": {
  "kernelspec": {
   "display_name": "LP_env",
   "language": "python",
   "name": "python3"
  },
  "language_info": {
   "codemirror_mode": {
    "name": "ipython",
    "version": 3
   },
   "file_extension": ".py",
   "mimetype": "text/x-python",
   "name": "python",
   "nbconvert_exporter": "python",
   "pygments_lexer": "ipython3",
   "version": "3.10.11"
  }
 },
 "nbformat": 4,
 "nbformat_minor": 2
}
