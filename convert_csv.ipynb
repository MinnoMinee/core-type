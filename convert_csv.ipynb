{
 "cells": [
  {
   "cell_type": "code",
   "execution_count": null,
   "metadata": {},
   "outputs": [],
   "source": [
    "import laspy\n",
    "import numpy as np\n",
    "import pandas as pd\n",
    "import os"
   ]
  },
  {
   "cell_type": "code",
   "execution_count": null,
   "metadata": {},
   "outputs": [],
   "source": [
    "#the folder needs to have a luminance and a non-luminance csv file from the ljx software, this lets you build an ljx processor\n",
    "\n",
    "folder = r\"C:\\Users\\eashenhurst\\Desktop\\local scans\\test_csv_core\\test 1\"\n",
    "\n",
    "csv_files = [f for f in os.listdir(folder) if f.endswith(\".csv\")]\n",
    "\n",
    "for csv_file in csv_files:\n",
    "    is_luminance = \"luminance\" in csv_file.lower()\n",
    "    file_path = os.path.join(folder, csv_file)\n",
    "\n",
    "    df = pd.read_csv(file_path, header=None)\n",
    "    z = df.to_numpy().flatten().tolist()\n",
    "\n",
    "    x_axis_size = 0.165\n",
    "    y_axis_size = 0.225\n",
    "\n",
    "    x_values = np.arange(0, 10000) * x_axis_size\n",
    "    y_values = np.arange(-1599.5, 1600, 1) * y_axis_size\n",
    "\n",
    "    x = np.repeat(x_values, 3200)\n",
    "    y = np.tile(y_values, 10000)\n",
    "\n",
    "    xyz = np.column_stack((x, y, z)).astype(np.float32)\n",
    "\n",
    "    base_name = \"intensity_cloud\" if is_luminance else \"point_cloud\"\n",
    "\n",
    "    bpc_path = os.path.join(folder, base_name + \".bpc\")\n",
    "    xyz.tofile(bpc_path)\n",
    "\n",
    "    las_path = os.path.join(folder, base_name + \".las\")\n",
    "    header = laspy.LasHeader(point_format=1, version=\"1.2\")\n",
    "    header.scale = [0.0001, 0.0001, 0.001] \n",
    "    las = laspy.LasData(header)\n",
    "    las.x = np.array(x, dtype = np.float32)\n",
    "    las.y = np.array(y, dtype = np.float32) \n",
    "    las.z = np.array(z, dtype = np.float32)\n",
    "    las.write(las_path)\n",
    "\n",
    "    print(f\"Processed: {csv_file} → {base_name}.bpc/.las\")"
   ]
  },
  {
   "cell_type": "code",
   "execution_count": null,
   "metadata": {},
   "outputs": [],
   "source": [
    "bpc_path = r\"C:\\Users\\eashenhurst\\Downloads\\LIDAR_001.bpc\"\n",
    "\n",
    "point_cloud = np.fromfile(bpc_path, dtype=np.float32).reshape(-1, 3)\n",
    "\n",
    "print(point_cloud.shape)\n",
    "\n",
    "print(point_cloud[0])\n",
    "\n",
    "nanmask = np.where(np.isnan(point_cloud[:, 2]))\n",
    "\n",
    "point_cloud[nanmask,2] = 0\n",
    "x = point_cloud[:,0]\n",
    "y = point_cloud[:,1]\n",
    "z = point_cloud[:,2]\n",
    "\n",
    "las_path = os.path.join(r\"C:\\Users\\eashenhurst\\Desktop\", \"point_cloud\" + \".las\")\n",
    "header = laspy.LasHeader(point_format=1, version=\"1.2\")\n",
    "header.scale = [0.0001, 0.0001, 0.001] \n",
    "las = laspy.LasData(header)\n",
    "las.x = np.array(x)\n",
    "las.y = np.array(y)\n",
    "las.z = np.array(z)\n",
    "las.write(las_path)\n",
    "\n"
   ]
  }
 ],
 "metadata": {
  "kernelspec": {
   "display_name": "LP_env",
   "language": "python",
   "name": "lp_env"
  },
  "language_info": {
   "codemirror_mode": {
    "name": "ipython",
    "version": 3
   },
   "file_extension": ".py",
   "mimetype": "text/x-python",
   "name": "python",
   "nbconvert_exporter": "python",
   "pygments_lexer": "ipython3",
   "version": "3.10.11"
  }
 },
 "nbformat": 4,
 "nbformat_minor": 2
}
