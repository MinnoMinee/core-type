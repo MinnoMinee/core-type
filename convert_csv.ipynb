{
 "cells": [
  {
   "cell_type": "code",
   "execution_count": null,
   "metadata": {},
   "outputs": [],
   "source": [
    "import laspy\n",
    "import numpy as np\n",
    "import pandas as pd\n",
    "import os"
   ]
  },
  {
   "cell_type": "code",
   "execution_count": null,
   "metadata": {},
   "outputs": [],
   "source": [
    "\n",
    "\n",
    "file_path = r\"C:\\Users\\eashenhurst\\Desktop\\local scans\\test_csv_core\\hyperspectral lights off\\Scan Slot 1 No Hysperctral Lights_luminance.csv\"\n",
    "df = pd.read_csv(file_path, header=None)  \n",
    "\n",
    "z = df.to_numpy().flatten().tolist()\n",
    "\n",
    "x_axis_size = 0.25\n",
    "\n",
    "y_axis_size = 0.225\n",
    "x_values = np.arange(0, 10000) * x_axis_size\n",
    "y_values = np.arange(-1599.5, 1600, 1) * y_axis_size\n",
    "\n",
    "x = np.repeat(x_values, 3200) \n",
    "y = np.tile(y_values, 10000) \n",
    "\n",
    "folder = os.path.dirname(file_path)\n",
    "\n",
    "file_path = os.path.join(folder, \"intensity_cloud.bpc\")\n",
    "\n",
    "xyz = np.column_stack((x, y, z)).astype(np.float32)\n",
    "\n",
    "xyz.tofile(file_path)\n",
    "\n",
    "print(f\"BPC file written: {file_path}\")"
   ]
  },
  {
   "cell_type": "code",
   "execution_count": null,
   "metadata": {},
   "outputs": [],
   "source": [
    "\n",
    "\n",
    "file_path = os.path.join(folder, \"intensity_cloud.las\")\n",
    "\n",
    "header = laspy.LasHeader(point_format=1, version=\"1.2\") \n",
    "las = laspy.LasData(header)\n",
    "\n",
    "las.x = np.array(x)\n",
    "las.y = np.array(y)\n",
    "las.z = np.array(z)\n",
    "\n",
    "las.write(file_path)"
   ]
  }
 ],
 "metadata": {
  "kernelspec": {
   "display_name": "LP_env",
   "language": "python",
   "name": "lp_env"
  },
  "language_info": {
   "codemirror_mode": {
    "name": "ipython",
    "version": 3
   },
   "file_extension": ".py",
   "mimetype": "text/x-python",
   "name": "python",
   "nbconvert_exporter": "python",
   "pygments_lexer": "ipython3",
   "version": "3.10.11"
  }
 },
 "nbformat": 4,
 "nbformat_minor": 2
}
