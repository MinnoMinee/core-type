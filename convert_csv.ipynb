{
 "cells": [
  {
   "cell_type": "code",
   "execution_count": 28,
   "metadata": {},
   "outputs": [],
   "source": [
    "import laspy\n",
    "import numpy as np\n",
    "import pandas as pd\n",
    "import os"
   ]
  },
  {
   "cell_type": "code",
   "execution_count": 29,
   "metadata": {},
   "outputs": [
    {
     "name": "stdout",
     "output_type": "stream",
     "text": [
      "BPC file written: C:\\Users\\edwar\\Desktop\\csv3\\point_cloud.bpc\n"
     ]
    }
   ],
   "source": [
    "file_path = r\"C:\\Users\\edwar\\Desktop\\csv3\\Scan Slot 1 No Hysperctral Lights.csv\"\n",
    "df = pd.read_csv(file_path, header=None)  \n",
    "\n",
    "z = df.to_numpy().flatten().tolist()\n",
    "\n",
    "x_axis_size = 0.25\n",
    "\n",
    "y_axis_size = 0.225\n",
    "x_values = np.arange(0, 10000)  \n",
    "y_values = np.linspace(-1600, 1600, 3200)  \n",
    "\n",
    "x = np.repeat(x_values, 3200) * x_axis_size\n",
    "y = np.tile(y_values, 10000) * y_axis_size\n",
    "\n",
    "\n",
    "file_path = os.path.join(r\"C:\\Users\\edwar\\Desktop\\csv3\", \"point_cloud.bpc\")\n",
    "\n",
    "xyz = np.column_stack((x, y, z)).astype(np.float32)\n",
    "\n",
    "xyz.tofile(file_path)\n",
    "\n",
    "print(f\"BPC file written: {file_path}\")"
   ]
  },
  {
   "cell_type": "code",
   "execution_count": 30,
   "metadata": {},
   "outputs": [
    {
     "ename": "NameError",
     "evalue": "name 'stop' is not defined",
     "output_type": "error",
     "traceback": [
      "\u001b[31m---------------------------------------------------------------------------\u001b[39m",
      "\u001b[31mNameError\u001b[39m                                 Traceback (most recent call last)",
      "\u001b[36mCell\u001b[39m\u001b[36m \u001b[39m\u001b[32mIn[30]\u001b[39m\u001b[32m, line 1\u001b[39m\n\u001b[32m----> \u001b[39m\u001b[32m1\u001b[39m \u001b[43mstop\u001b[49m\n\u001b[32m      3\u001b[39m file_path = os.path.join(\u001b[33mr\u001b[39m\u001b[33m\"\u001b[39m\u001b[38;5;130;01m\\\\\u001b[39;00m\u001b[33m192.168.1.100\u001b[39m\u001b[33m\\\u001b[39m\u001b[33mCoreScan3-2\u001b[39m\u001b[33m\\\u001b[39m\u001b[33mAcquisitions\u001b[39m\u001b[33m\\\u001b[39m\u001b[33mRnD\u001b[39m\u001b[33m\\\u001b[39m\u001b[33mEA\u001b[39m\u001b[33m\"\u001b[39m, \u001b[33m\"\u001b[39m\u001b[33mpoint_cloud.las\u001b[39m\u001b[33m\"\u001b[39m)\n\u001b[32m      5\u001b[39m header = laspy.LasHeader(point_format=\u001b[32m1\u001b[39m, version=\u001b[33m\"\u001b[39m\u001b[33m1.2\u001b[39m\u001b[33m\"\u001b[39m) \n",
      "\u001b[31mNameError\u001b[39m: name 'stop' is not defined"
     ]
    }
   ],
   "source": [
    "stop\n",
    "\n",
    "file_path = os.path.join(r\"\\\\192.168.1.100\\CoreScan3-2\\Acquisitions\\RnD\\EA\", \"point_cloud.las\")\n",
    "\n",
    "header = laspy.LasHeader(point_format=1, version=\"1.2\") \n",
    "las = laspy.LasData(header)\n",
    "\n",
    "las.x = np.array(x)\n",
    "las.y = np.array(y)\n",
    "las.z = np.array(z)\n",
    "\n",
    "las.write(file_path)"
   ]
  }
 ],
 "metadata": {
  "kernelspec": {
   "display_name": "Python (LP_env)",
   "language": "python",
   "name": "lp_env"
  },
  "language_info": {
   "codemirror_mode": {
    "name": "ipython",
    "version": 3
   },
   "file_extension": ".py",
   "mimetype": "text/x-python",
   "name": "python",
   "nbconvert_exporter": "python",
   "pygments_lexer": "ipython3",
   "version": "3.12.8"
  }
 },
 "nbformat": 4,
 "nbformat_minor": 2
}
