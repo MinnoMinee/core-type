{
 "cells": [
  {
   "cell_type": "code",
   "execution_count": null,
   "metadata": {},
   "outputs": [],
   "source": [
    "import laspy\n",
    "import numpy as np\n",
    "import pandas as pd\n",
    "import os"
   ]
  },
  {
   "cell_type": "code",
   "execution_count": null,
   "metadata": {},
   "outputs": [],
   "source": [
    "file_path = r\"\\\\192.168.1.100\\CoreScan3-2\\Acquisitions\\RnD\\EA\\test.csv\"\n",
    "df = pd.read_csv(file_path, header=None)  \n",
    "\n",
    "z = df.to_numpy().flatten().tolist()\n",
    "\n",
    "print(np.min(z))\n",
    "\n",
    "scale = 0.15\n",
    "\n",
    "x_values = np.arange(0, 10000)  \n",
    "y_values = np.linspace(-1600, 1600, 3200)  \n",
    "\n",
    "x = np.repeat(x_values, 3200) * scale\n",
    "y = np.tile(y_values, 10000) * scale\n",
    "\n",
    "print(len(x),len(y),len(z))\n",
    "\n",
    "file_path = os.path.join(r\"\\\\192.168.1.100\\CoreScan3-2\\Acquisitions\\RnD\\EA\", \"point_cloud.bpc\")\n",
    "\n",
    "# Convert to float32 (reduces storage size and speeds up writing)\n",
    "xyz = np.column_stack((x, y, z)).astype(np.float32)\n",
    "\n",
    "# Write as a single binary block\n",
    "xyz.tofile(file_path)\n",
    "\n",
    "print(f\"BPC file written: {file_path}\")"
   ]
  },
  {
   "cell_type": "code",
   "execution_count": null,
   "metadata": {},
   "outputs": [],
   "source": [
    "file_path = r\"\\\\192.168.1.100\\CoreScan3-2\\Acquisitions\\RnD\\EA\\test_luminance.csv\"\n",
    "df = pd.read_csv(file_path, header=None)  \n",
    "\n",
    "z = df.to_numpy().flatten().tolist()\n",
    "\n",
    "scale = 0.15\n",
    "\n",
    "x_values = np.arange(0, 10000)  \n",
    "y_values = np.linspace(0, 3200, 3200)  \n",
    "\n",
    "x = np.repeat(x_values, 3200) * scale\n",
    "y = np.tile(y_values, 10000) * scale\n",
    "\n",
    "print(len(x),len(y),len(z))\n",
    "\n",
    "file_path = os.path.join(r\"\\\\192.168.1.100\\CoreScan3-2\\Acquisitions\\RnD\\EA\", \"intensity_cloud.las\")\n",
    "\n",
    "header = laspy.LasHeader(point_format=1, version=\"1.2\") \n",
    "las = laspy.LasData(header)\n",
    "\n",
    "las.x = np.array(x)\n",
    "las.y = np.array(y)\n",
    "las.z = np.array(z)\n",
    "\n",
    "las.write(file_path)"
   ]
  }
 ],
 "metadata": {
  "kernelspec": {
   "display_name": "LP_env",
   "language": "python",
   "name": "lp_env"
  },
  "language_info": {
   "codemirror_mode": {
    "name": "ipython",
    "version": 3
   },
   "file_extension": ".py",
   "mimetype": "text/x-python",
   "name": "python",
   "nbconvert_exporter": "python",
   "pygments_lexer": "ipython3",
   "version": "3.10.11"
  }
 },
 "nbformat": 4,
 "nbformat_minor": 2
}
