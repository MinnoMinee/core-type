{
 "cells": [
  {
   "cell_type": "code",
   "execution_count": null,
   "metadata": {},
   "outputs": [],
   "source": [
    "import os\n",
    "import open3d as o3d\n",
    "import numpy as np\n",
    "import pandas as pd\n",
    "import matplotlib.pyplot as plt\n",
    "\n",
    "from mpl_toolkits.mplot3d import Axes3D\n",
    "from ipywidgets import interact\n",
    "\n"
   ]
  },
  {
   "cell_type": "code",
   "execution_count": null,
   "metadata": {},
   "outputs": [],
   "source": [
    "\n",
    "point_clouds = []\n",
    "np_point_clouds = []\n",
    "file_dirs = [r'\\\\192.168.1.100\\CoreScan3-2\\Acquisitions\\RnD\\EA\\test_csv_core']\n",
    "\n",
    "\n",
    "Box = 9\n",
    "Part = 1\n",
    "mms = 14\n",
    "\n",
    "#for i in range(5, 16):\n",
    "#        file_dirs.append(f\"C:/Users/eashenhurst/Desktop/local macassa/Box{Box}/AdaptiveZ_{i}mm/Core_000_Box_00{Box}_of_020_Part_{Part}_of_4\")\n",
    "\n",
    "config_file = r\"\"\n",
    "\n",
    "for file_dir in file_dirs:\n",
    "    #with open(os.path.join(file_dir, '.component_parameters.txt'), 'r') as file:\n",
    "    #    lines = file.readlines()\n",
    "    #    \n",
    "    #    for line in lines:\n",
    "    #        if \"XRAY_DPP[Acquisition]#0.Y.Start:\" in line:\n",
    "    #            # print the rest of the line\n",
    "    #            y_offset = line.split(\"XRAY_DPP[Acquisition]#0.Y.Start:\")[1].strip()\n",
    "    #            print(f\"y_offset: {y_offset}\")\n",
    "    #            \n",
    "    if os.path.isdir(file_dir):\n",
    "        lidar_files = [fn for fn in os.listdir(\n",
    "            file_dir) if fn.endswith('.bpc')]\n",
    "        if any(lidar_files):\n",
    "            lidar_filename = file_dir + os.sep + lidar_files[0]\n",
    "\n",
    "    data = np.fromfile(lidar_filename, dtype=np.float32)\n",
    "    point_cloud = data.reshape(-1, 3)  # to xyz\n",
    "\n",
    "    ff = ~np.isnan(point_cloud).any(axis=1)\n",
    "    point_cloud = point_cloud[ff, ...]\n",
    "    \n",
    "\n",
    "    #mask = (point_cloud[:,0] <= 1500) & (point_cloud[:,0] >= 500) & ((point_cloud[:,1]) <= (0)) & ((point_cloud[:,1]) >=  -(150))\n",
    "\n",
    "    #point_cloud = point_cloud[mask]\n",
    "\n",
    "\n",
    "\n",
    "    # Print information about the loaded file and point cloud\n",
    "    print(f\"{lidar_filename} is loaded. \\n# of point {point_cloud.shape[0]}\")\n",
    "\n",
    "\n",
    "    pcd = o3d.geometry.PointCloud()\n",
    "    pcd.points = o3d.utility.Vector3dVector(point_cloud)\n",
    "\n",
    "    point_clouds.append(pcd)\n",
    "    np_point_clouds.append(point_cloud)\n",
    "print(len(point_clouds))\n",
    "\n"
   ]
  },
  {
   "cell_type": "code",
   "execution_count": null,
   "metadata": {},
   "outputs": [],
   "source": [
    "o3d.visualization.draw_geometries(point_clouds)"
   ]
  }
 ],
 "metadata": {
  "kernelspec": {
   "display_name": "new_env2",
   "language": "python",
   "name": "new_env2"
  },
  "language_info": {
   "codemirror_mode": {
    "name": "ipython",
    "version": 3
   },
   "file_extension": ".py",
   "mimetype": "text/x-python",
   "name": "python",
   "nbconvert_exporter": "python",
   "pygments_lexer": "ipython3",
   "version": "3.10.11"
  }
 },
 "nbformat": 4,
 "nbformat_minor": 2
}
