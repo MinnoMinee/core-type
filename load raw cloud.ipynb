{
 "cells": [
  {
   "cell_type": "code",
   "execution_count": 4,
   "metadata": {},
   "outputs": [],
   "source": [
    "import os\n",
    "import open3d as o3d\n",
    "import numpy as np\n",
    "import pandas as pd\n",
    "import matplotlib.pyplot as plt\n",
    "\n",
    "from mpl_toolkits.mplot3d import Axes3D\n",
    "from ipywidgets import interact\n",
    "\n"
   ]
  },
  {
   "cell_type": "code",
   "execution_count": 5,
   "metadata": {},
   "outputs": [
    {
     "name": "stdout",
     "output_type": "stream",
     "text": [
      "\\\\192.168.1.63\\g\\CoreScans\\Core_000_Box_000_of_000_Pass_027\\LIDAR_001.bpc is loaded. \n",
      "# of point 5934576\n",
      "1\n"
     ]
    }
   ],
   "source": [
    "point_clouds = []\n",
    "np_point_clouds = []\n",
    "file_dirs = [r\"\\\\192.168.1.63\\g\\CoreScans\\Core_000_Box_000_of_000_Pass_027\"]\n",
    "\n",
    "\n",
    "Box = 9\n",
    "Part = 1\n",
    "mms = 14\n",
    "\n",
    "config_file = r\"\"\n",
    "\n",
    "for file_dir in file_dirs:\n",
    "          \n",
    "    if os.path.isdir(file_dir):\n",
    "        lidar_files = [fn for fn in os.listdir(\n",
    "            file_dir) if fn.endswith('.bpc')]\n",
    "        if any(lidar_files):\n",
    "            lidar_filename = file_dir + os.sep + lidar_files[0]\n",
    "\n",
    "    data = np.fromfile(lidar_filename, dtype=np.float32)\n",
    "    point_cloud = data.reshape(-1, 3)  # to xyz\n",
    "\n",
    "    ff = ~np.isnan(point_cloud).any(axis=1)\n",
    "    point_cloud = point_cloud[ff, ...]\n",
    "    \n",
    "    print(f\"{lidar_filename} is loaded. \\n# of point {point_cloud.shape[0]}\")\n",
    "\n",
    "\n",
    "    pcd = o3d.geometry.PointCloud()\n",
    "    pcd.points = o3d.utility.Vector3dVector(point_cloud)\n",
    "\n",
    "    point_clouds.append(pcd)\n",
    "    np_point_clouds.append(point_cloud)\n",
    "print(len(point_clouds))\n",
    "\n"
   ]
  },
  {
   "cell_type": "code",
   "execution_count": 6,
   "metadata": {},
   "outputs": [
    {
     "name": "stdout",
     "output_type": "stream",
     "text": [
      "[Open3D WARNING] [ViewControl] SetViewPoint() failed because window height and width are not set.\n"
     ]
    }
   ],
   "source": [
    "o3d.visualization.draw_geometries(point_clouds)"
   ]
  }
 ],
 "metadata": {
  "kernelspec": {
   "display_name": "LP_env",
   "language": "python",
   "name": "python3"
  },
  "language_info": {
   "codemirror_mode": {
    "name": "ipython",
    "version": 3
   },
   "file_extension": ".py",
   "mimetype": "text/x-python",
   "name": "python",
   "nbconvert_exporter": "python",
   "pygments_lexer": "ipython3",
   "version": "3.10.11"
  }
 },
 "nbformat": 4,
 "nbformat_minor": 2
}
