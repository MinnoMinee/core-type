{
 "cells": [
  {
   "cell_type": "code",
   "execution_count": null,
   "metadata": {},
   "outputs": [],
   "source": [
    "import numpy as np\n",
    "import cupy as cp \n",
    "import gc \n",
    "import plotly.graph_objects as go\n",
    "from sklearn.cluster import DBSCAN\n",
    "from scipy.spatial import KDTree\n",
    "import pickle\n",
    "\n"
   ]
  },
  {
   "cell_type": "code",
   "execution_count": null,
   "metadata": {},
   "outputs": [],
   "source": [
    "#get all the vectors from the csv\n",
    "import ast\n",
    "\n",
    "with open('distribution_vectors.csv', 'r') as file:\n",
    "    data = file.read()\n",
    "\n",
    "vectors = [ast.literal_eval(vec) for vec in data.strip().split('\"') if vec.strip()]\n",
    "vectors = np.array(vectors).astype(np.float16)\n",
    "\n",
    "mask = vectors[:,1] <= 3\n",
    "\n",
    "vectors = vectors[mask]\n",
    "vectors[:,2] = np.abs(vectors[:,2])"
   ]
  },
  {
   "cell_type": "code",
   "execution_count": null,
   "metadata": {},
   "outputs": [],
   "source": [
    "#plot the vector csv\n",
    "ds_f = 4\n",
    "\n",
    "x = vectors[::ds_f,1]\n",
    "y = vectors[::ds_f,2]\n",
    "z = vectors[::ds_f,3]\n",
    "c = vectors[::ds_f,2]\n",
    "\n",
    "\n",
    "fig = go.Figure(data=[go.Scatter3d(\n",
    "    x=x, y=y, z=z,\n",
    "    mode='markers',\n",
    "    marker=dict(size=1.3, color=c, opacity=1),\n",
    ")])\n",
    "\n",
    "fig.update_layout(\n",
    "    title=\"3D Scatter of Vectors\",\n",
    "    scene=dict(\n",
    "        xaxis_title=\"mean\",\n",
    "        yaxis_title=\"skew\",\n",
    "        zaxis_title=\"azimuthal angle\",\n",
    "        camera=dict(projection=dict(type=\"orthographic\"))\n",
    "    ),\n",
    "    width=1000,\n",
    "    height=1000\n",
    ")"
   ]
  },
  {
   "cell_type": "code",
   "execution_count": null,
   "metadata": {},
   "outputs": [],
   "source": [
    "#clustering\n",
    "hdbscan_refined = DBSCAN(min_samples =150,\n",
    "                             metric = \"chebyshev\",\n",
    "                             eps= 0.05,\n",
    "                             n_jobs=3)\n",
    "\n",
    "labels = hdbscan_refined.fit_predict(vectors)\n"
   ]
  },
  {
   "cell_type": "code",
   "execution_count": null,
   "metadata": {},
   "outputs": [],
   "source": [
    "gc.collect\n",
    "# Downsample the data\n",
    "ds_f = 4\n",
    "\n",
    "filter = labels != -1\n",
    "\n",
    "x = vectors[filter][::ds_f, 1]\n",
    "y = vectors[filter][::ds_f, 2]\n",
    "z = vectors[filter][::ds_f, 3]\n",
    "c = labels[filter][::ds_f]\n",
    "\n",
    "fig = go.Figure(data=[go.Scatter3d(\n",
    "    x=x, y=y, z=z,\n",
    "    mode='markers',\n",
    "    marker=dict(\n",
    "        size=1.3,\n",
    "        color=c,\n",
    "        colorscale='tealrose', # You can adjust the colorscale here\n",
    "        opacity=1,\n",
    "        colorbar=dict(title=\"Label\") # Add color legend\n",
    "    )\n",
    ")])\n",
    "\n",
    "fig.update_layout(\n",
    "    title=\"3D Scatter of Vectors\",\n",
    "    scene=dict(\n",
    "        xaxis_title=\"mean\",\n",
    "        yaxis_title=\"skew\",\n",
    "        zaxis_title=\"azimuthal angle\",\n",
    "        camera=dict(projection=dict(type=\"orthographic\"))\n",
    "    ),\n",
    "    width=1000,\n",
    "    height=1000\n",
    ")\n",
    "\n",
    "fig.show()\n"
   ]
  },
  {
   "cell_type": "code",
   "execution_count": null,
   "metadata": {},
   "outputs": [],
   "source": [
    "stop"
   ]
  },
  {
   "cell_type": "code",
   "execution_count": null,
   "metadata": {},
   "outputs": [],
   "source": [
    "#save to a pickle file\n",
    "mask = labels != -1\n",
    "return_vectors = vectors[mask]\n",
    "defined_labels = labels[mask] + 1\n",
    "print(np.unique (defined_labels))\n",
    "\n",
    "tree = KDTree(return_vectors)\n",
    "\n",
    "\n",
    "with open('cluster_kd_tree.pkl', 'wb') as f:\n",
    "    pickle.dump((tree, defined_labels), f)\n",
    "\n"
   ]
  }
 ],
 "metadata": {
  "kernelspec": {
   "display_name": "new_env2",
   "language": "python",
   "name": "new_env2"
  },
  "language_info": {
   "codemirror_mode": {
    "name": "ipython",
    "version": 3
   },
   "file_extension": ".py",
   "mimetype": "text/x-python",
   "name": "python",
   "nbconvert_exporter": "python",
   "pygments_lexer": "ipython3",
   "version": "3.10.11"
  }
 },
 "nbformat": 4,
 "nbformat_minor": 2
}
