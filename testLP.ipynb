{
 "cells": [
  {
   "cell_type": "code",
   "execution_count": null,
   "metadata": {},
   "outputs": [],
   "source": [
    "import os\n",
    "from lidar_processing import lidar_processor"
   ]
  },
  {
   "cell_type": "code",
   "execution_count": null,
   "metadata": {},
   "outputs": [],
   "source": [
    "root_dir = r\"C:\\Users\\eashenhurst\\Desktop\\local macassa\"\n",
    "filter = \"10mm\"\n",
    "\n",
    "#root_dir = r\"\\\\192.168.1.63\\g\\CoreScans\"\n",
    "#filter = \"11\"\n",
    "#\n",
    "#\n",
    "#root_dir = r\"C:\\Users\\eashenhurst\\Desktop\\auzzy rocks\"\n",
    "#filter = \"\"\n",
    "\n",
    "paths_list = []\n",
    "for root, dirs, files in os.walk(root_dir):\n",
    "        for dir_name in dirs:\n",
    "            if dir_name.startswith(\"Core\"):\n",
    "                folder = os.path.join(root,dir_name)\n",
    "                if filter in folder:\n",
    "                    paths_list.append(folder)\n",
    "\n",
    "\n",
    "model_path = 'cluster_kd_tree.pkl'\n",
    "\n",
    "processors = []\n",
    "for folder in paths_list:\n",
    "    for i in range (0,1):\n",
    "        try:\n",
    "            processor = lidar_processor(folder, model_path, upsample_ratio = i, window_size = 10, name = (folder.split(r'\\\\')[-1] + f\"  upsample_ratio = {i}\"))\n",
    "        except FileNotFoundError as e:\n",
    "            print(f\"   Error: {e}\")\n",
    "        else:  \n",
    "            processors.append(processor)\n",
    "            print(f\"{processor.name} created\")\n",
    "\n",
    "print(f\"{len(processors)} Lidar Processors created\")"
   ]
  },
  {
   "cell_type": "code",
   "execution_count": null,
   "metadata": {},
   "outputs": [],
   "source": [
    "for LP in processors:\n",
    "    LP._plot_correction_windows( plot_point_cloud=True)\n",
    "    LP._plot_sections()\n",
    "    LP._plot_PCA_mask()\n",
    "    LP._collect_garbage()\n",
    "    "
   ]
  },
  {
   "cell_type": "code",
   "execution_count": null,
   "metadata": {},
   "outputs": [],
   "source": [
    "processors[1]._view_point_cloud()\n"
   ]
  },
  {
   "cell_type": "code",
   "execution_count": null,
   "metadata": {},
   "outputs": [],
   "source": [
    "PL = lidar_processor(r\"\\\\192.168.1.63\\g\\CoreScans\\Core_000_Box_000_of_000_Pass_025\", window_size= 10, upsample_ratio= 0)\n",
    "PL._plot_correction_windows()\n",
    "PL._plot_sections()"
   ]
  }
 ],
 "metadata": {
  "kernelspec": {
   "display_name": "LP_env",
   "language": "python",
   "name": "lp_env"
  },
  "language_info": {
   "codemirror_mode": {
    "name": "ipython",
    "version": 3
   },
   "file_extension": ".py",
   "mimetype": "text/x-python",
   "name": "python",
   "nbconvert_exporter": "python",
   "pygments_lexer": "ipython3",
   "version": "3.10.11"
  }
 },
 "nbformat": 4,
 "nbformat_minor": 2
}
