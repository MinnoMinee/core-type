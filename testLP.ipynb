{
 "cells": [
  {
   "cell_type": "code",
   "execution_count": null,
   "metadata": {},
   "outputs": [],
   "source": [
    "import os\n",
    "from lidar_processing import lidar_processor, ljx_processor"
   ]
  },
  {
   "cell_type": "code",
   "execution_count": null,
   "metadata": {},
   "outputs": [],
   "source": [
    "root_dir = r\"C:\\Users\\eashenhurst\\Desktop\\local scans\\auzzy rocks\"\n",
    "filter = \"\"\n",
    "\n",
    "paths_list = []\n",
    "for root, dirs, files in os.walk(root_dir):\n",
    "        for dir_name in dirs:\n",
    "                folder = os.path.join(root,dir_name)\n",
    "                if filter in folder:\n",
    "                    paths_list.append(folder)\n",
    "\n",
    "processors = []\n",
    "for folder in paths_list:\n",
    "        try:\n",
    "            processor = lidar_processor(folder, window_size = 17, name = (folder.split(\"\\\\\")[-1]))\n",
    "        except FileNotFoundError as e:\n",
    "            print(f\"   Error: {e}\")\n",
    "        else:  \n",
    "            processors.append(processor)\n",
    "            print(f\"{processor.name} created\")\n",
    "\n",
    "print(f\"{len(processors)} Lidar Processors created\")"
   ]
  },
  {
   "cell_type": "code",
   "execution_count": null,
   "metadata": {},
   "outputs": [],
   "source": [
    "for LP in processors:\n",
    "    LP._plot_correction_windows(dpi = 15)\n",
    "    LP._plot_sections(dpi = 15)\n",
    "    LP._collect_garbage()"
   ]
  },
  {
   "cell_type": "code",
   "execution_count": null,
   "metadata": {},
   "outputs": [],
   "source": [
    "root_dir = r\"C:\\Users\\eashenhurst\\Desktop\\local scans\\test_csv_core\"\n",
    "filter = \"\"\n",
    "\n",
    "paths_list = []\n",
    "for root, dirs, files in os.walk(root_dir):\n",
    "        for dir_name in dirs:\n",
    "                folder = os.path.join(root,dir_name)\n",
    "                if filter in folder:\n",
    "                    paths_list.append(folder)\n",
    "\n",
    "processors = []\n",
    "for folder in paths_list:\n",
    "        try:\n",
    "            processor = lidar_processor(folder, window_size = 17.5, name = (folder.split(\"Core_000_\")[-1]), x_stop = 800, box_length = 700, strong_edge_threshold = 175, weak_edge_threshold = 35)\n",
    "        except FileNotFoundError as e:\n",
    "            print(f\"   Error: {e}\")\n",
    "        else:  \n",
    "            processors.append(processor)\n",
    "            print(f\"{processor.name} created\")\n",
    "\n",
    "print(f\"{len(processors)} Lidar Processors created\")\n"
   ]
  },
  {
   "cell_type": "code",
   "execution_count": null,
   "metadata": {},
   "outputs": [],
   "source": [
    "for LP in processors:\n",
    "    LP._plot_correction_windows(dpi = 15)\n",
    "    LP._plot_sections(dpi = 15)\n",
    "    LP._collect_garbage()"
   ]
  },
  {
   "cell_type": "code",
   "execution_count": null,
   "metadata": {},
   "outputs": [],
   "source": [
    "root_dir = r\"C:\\Users\\eashenhurst\\Desktop\\local scans\\local macassa\"\n",
    "filter = \"10mm\"\n",
    "\n",
    "paths_list = []\n",
    "for root, dirs, files in os.walk(root_dir):\n",
    "        for dir_name in dirs:\n",
    "                folder = os.path.join(root,dir_name)\n",
    "                if filter in folder:\n",
    "                    paths_list.append(folder)\n",
    "\n",
    "processors = []\n",
    "for folder in paths_list:\n",
    "        try:\n",
    "            processor = lidar_processor(folder, window_size = 10, name = (folder.split(\"Core_000_\")[-1]))\n",
    "        except FileNotFoundError as e:\n",
    "            print(f\"   Error: {e}\")\n",
    "        else:  \n",
    "            processors.append(processor)\n",
    "            print(f\"{processor.name} created\")\n",
    "\n",
    "print(f\"{len(processors)} Lidar Processors created\")\n",
    "\n"
   ]
  },
  {
   "cell_type": "code",
   "execution_count": null,
   "metadata": {},
   "outputs": [],
   "source": [
    "for LP in processors:\n",
    "    LP._plot_correction_windows(dpi = 15, noise_threshold = 0.25)\n",
    "    LP._plot_sections(dpi = 15)\n",
    "    LP._collect_garbage()"
   ]
  },
  {
   "cell_type": "code",
   "execution_count": null,
   "metadata": {},
   "outputs": [],
   "source": [
    "processors = []\n",
    "for i in range(5):\n",
    "    try:\n",
    "        processor = ljx_processor(r\"C:\\Users\\eashenhurst\\Desktop\\local scans\\test_csv_core\\test 1\",\n",
    "                                name = f\"scan 1 slot {i + 1}\", window_size= 17.5, y_shift = 70*i,\n",
    "                                x_stop = 1225, box_length = 700)\n",
    "    except FileNotFoundError as e:\n",
    "        print(f\"   Error: {e}\")\n",
    "    else:  \n",
    "        processors.append(processor)\n",
    "        print(f\"{processor.name} created\")\n",
    "\n",
    "for i in range(5):\n",
    "    try:\n",
    "        processor = ljx_processor(r\"C:\\Users\\eashenhurst\\Desktop\\local scans\\test_csv_core\\hyperspectral lights off\",\n",
    "                                    name = f\"scan 2 slot {i + 1}\", window_size= 17.5, y_shift = 68*i,\n",
    "                                    x_stop = 1550, box_length = 700)\n",
    "    except FileNotFoundError as e:\n",
    "        print(f\"   Error: {e}\")\n",
    "    else:  \n",
    "        processors.append(processor)\n",
    "        print(f\"{processor.name} created\")\n",
    "\n",
    "for i in range(5):\n",
    "    try:\n",
    "        processor = ljx_processor(r\"C:\\Users\\eashenhurst\\Desktop\\local scans\\test_csv_core\\hyperspectral lights on\",\n",
    "                                    name = f\"scan 3 slot {i + 1}\", window_size= 17.5, y_shift = 68*i,\n",
    "                                    x_stop = 1400, box_length = 700)\n",
    "    except FileNotFoundError as e:\n",
    "        print(f\"   Error: {e}\")\n",
    "    else:  \n",
    "        processors.append(processor)\n",
    "        print(f\"{processor.name} created\")\n",
    "    \n",
    "print(f\"{len(processors)} ljx processors built\")\n"
   ]
  },
  {
   "cell_type": "code",
   "execution_count": null,
   "metadata": {},
   "outputs": [],
   "source": [
    "for LP in processors:\n",
    "    LP._plot_correction_windows(dpi = 15)\n",
    "    LP._plot_sections(dpi = 15)\n",
    "    LP._collect_garbage()"
   ]
  }
 ],
 "metadata": {
  "kernelspec": {
   "display_name": "LP_env",
   "language": "python",
   "name": "lp_env"
  },
  "language_info": {
   "codemirror_mode": {
    "name": "ipython",
    "version": 3
   },
   "file_extension": ".py",
   "mimetype": "text/x-python",
   "name": "python",
   "nbconvert_exporter": "python",
   "pygments_lexer": "ipython3",
   "version": "3.10.11"
  }
 },
 "nbformat": 4,
 "nbformat_minor": 2
}
