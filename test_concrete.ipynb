{
 "cells": [
  {
   "cell_type": "code",
   "execution_count": 15,
   "id": "55370b1f",
   "metadata": {},
   "outputs": [],
   "source": [
    "from lidar_processing import lidar_processor as LP\n",
    "import os"
   ]
  },
  {
   "cell_type": "code",
   "execution_count": 16,
   "id": "c8b30e11",
   "metadata": {},
   "outputs": [
    {
     "name": "stdout",
     "output_type": "stream",
     "text": [
      "   Error: Missing required files: bpc, intensity, real_dbg, dbg\n"
     ]
    },
    {
     "name": "stderr",
     "output_type": "stream",
     "text": [
      "c:\\Users\\eashenhurst\\Python\\test\\LP_env\\lib\\site-packages\\lidar_processing\\lidar_processing.py:369: RuntimeWarning: divide by zero encountered in log\n",
      "  array_i = cp.array(np.log(np.abs(self.intensity_cloud)), dtype=cp.float32)\n"
     ]
    },
    {
     "name": "stdout",
     "output_type": "stream",
     "text": [
      "C:\\Users\\eashenhurst\\Desktop\\local scans\\local macassa\\Box1\\AdaptiveZ_5mm\\Core_000_Box_001_of_020_Part_1_of_4 finished\n",
      "C:\\Users\\eashenhurst\\Desktop\\local scans\\local macassa\\Box1\\AdaptiveZ_5mm\\Core_000_Box_001_of_020_Part_2_of_4 finished\n",
      "C:\\Users\\eashenhurst\\Desktop\\local scans\\local macassa\\Box1\\AdaptiveZ_5mm\\Core_000_Box_001_of_020_Part_3_of_4 finished\n",
      "C:\\Users\\eashenhurst\\Desktop\\local scans\\local macassa\\Box1\\AdaptiveZ_5mm\\Core_000_Box_001_of_020_Part_4_of_4 finished\n",
      "   Error: Missing required files: bpc, intensity, real_dbg, dbg\n",
      "C:\\Users\\eashenhurst\\Desktop\\local scans\\local macassa\\Box14\\AdaptiveZ_5mm\\Core_000_Box_014_of_020_Part_1_of_4 finished\n",
      "C:\\Users\\eashenhurst\\Desktop\\local scans\\local macassa\\Box14\\AdaptiveZ_5mm\\Core_000_Box_014_of_020_Part_2_of_4 finished\n",
      "C:\\Users\\eashenhurst\\Desktop\\local scans\\local macassa\\Box14\\AdaptiveZ_5mm\\Core_000_Box_014_of_020_Part_3_of_4 finished\n",
      "C:\\Users\\eashenhurst\\Desktop\\local scans\\local macassa\\Box14\\AdaptiveZ_5mm\\Core_000_Box_014_of_020_Part_4_of_4 finished\n",
      "   Error: Missing required files: bpc, intensity, real_dbg, dbg\n",
      "C:\\Users\\eashenhurst\\Desktop\\local scans\\local macassa\\Box3\\AdaptiveZ_5mm\\Core_000_Box_003_of_020_Part_1_of_4 finished\n",
      "C:\\Users\\eashenhurst\\Desktop\\local scans\\local macassa\\Box3\\AdaptiveZ_5mm\\Core_000_Box_003_of_020_Part_2_of_4 finished\n",
      "C:\\Users\\eashenhurst\\Desktop\\local scans\\local macassa\\Box3\\AdaptiveZ_5mm\\Core_000_Box_003_of_020_Part_3_of_4 finished\n",
      "C:\\Users\\eashenhurst\\Desktop\\local scans\\local macassa\\Box3\\AdaptiveZ_5mm\\Core_000_Box_003_of_020_Part_4_of_4 finished\n",
      "   Error: Missing required files: bpc, intensity, real_dbg, dbg\n",
      "C:\\Users\\eashenhurst\\Desktop\\local scans\\local macassa\\Box4\\AdaptiveZ_5mm\\Core_000_Box_004_of_020_Part_1_of_4 finished\n",
      "C:\\Users\\eashenhurst\\Desktop\\local scans\\local macassa\\Box4\\AdaptiveZ_5mm\\Core_000_Box_004_of_020_Part_2_of_4 finished\n",
      "C:\\Users\\eashenhurst\\Desktop\\local scans\\local macassa\\Box4\\AdaptiveZ_5mm\\Core_000_Box_004_of_020_Part_3_of_4 finished\n",
      "C:\\Users\\eashenhurst\\Desktop\\local scans\\local macassa\\Box4\\AdaptiveZ_5mm\\Core_000_Box_004_of_020_Part_4_of_4 finished\n",
      "   Error: Missing required files: bpc, intensity, real_dbg, dbg\n",
      "C:\\Users\\eashenhurst\\Desktop\\local scans\\local macassa\\Box9\\AdaptiveZ_5mm\\Core_000_Box_009_of_020_Part_1_of_4 finished\n",
      "C:\\Users\\eashenhurst\\Desktop\\local scans\\local macassa\\Box9\\AdaptiveZ_5mm\\Core_000_Box_009_of_020_Part_2_of_4 finished\n",
      "C:\\Users\\eashenhurst\\Desktop\\local scans\\local macassa\\Box9\\AdaptiveZ_5mm\\Core_000_Box_009_of_020_Part_3_of_4 finished\n",
      "C:\\Users\\eashenhurst\\Desktop\\local scans\\local macassa\\Box9\\AdaptiveZ_5mm\\Core_000_Box_009_of_020_Part_4_of_4 finished\n"
     ]
    }
   ],
   "source": [
    "#stop \n",
    "#run if you need to \n",
    "root_dir = r\"C:\\Users\\eashenhurst\\Desktop\\local scans\\local macassa\"\n",
    "filter = \"_5mm\"\n",
    "\n",
    "paths_list = []\n",
    "for root, dirs, files in os.walk(root_dir):\n",
    "        for dir_name in dirs:\n",
    "                folder = os.path.join(root,dir_name)\n",
    "                if filter in folder:\n",
    "                    paths_list.append(folder)\n",
    "i = 10 \n",
    "for folder in paths_list:\n",
    "        try:\n",
    "            processor = LP(folder, window_size = i,noise_threshold=0.25)\n",
    "        except FileNotFoundError as e:\n",
    "            print(f\"   Error: {e}\")\n",
    "        else:\n",
    "            processor._save_correction_windows(xrf_window_size = 10)\n",
    "            print(f\"{processor.name} finished\")"
   ]
  }
 ],
 "metadata": {
  "kernelspec": {
   "display_name": "LP_env",
   "language": "python",
   "name": "python3"
  },
  "language_info": {
   "codemirror_mode": {
    "name": "ipython",
    "version": 3
   },
   "file_extension": ".py",
   "mimetype": "text/x-python",
   "name": "python",
   "nbconvert_exporter": "python",
   "pygments_lexer": "ipython3",
   "version": "3.10.11"
  }
 },
 "nbformat": 4,
 "nbformat_minor": 5
}
