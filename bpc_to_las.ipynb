{
 "cells": [
  {
   "cell_type": "code",
   "execution_count": 3,
   "metadata": {},
   "outputs": [],
   "source": [
    "import laspy\n",
    "import numpy as np\n",
    "import pandas as pd\n",
    "import os"
   ]
  },
  {
   "cell_type": "code",
   "execution_count": 4,
   "metadata": {},
   "outputs": [],
   "source": [
    "bpc_path = r\"C:\\Users\\eashenhurst\\Desktop\\local scans\\concrete_test\\Core_000_Box_000_of_000_Part_1_of_2_Pass_002\\LIDAR_001.bpc\"\n",
    "\n",
    "point_cloud = np.fromfile(bpc_path, dtype=np.float32).reshape(-1, 3)\n",
    "\n",
    "nanmask = np.where(np.isnan(point_cloud[:, 2]))\n",
    "\n",
    "point_cloud[nanmask,2] = 0\n",
    "x = point_cloud[:,0]\n",
    "y = point_cloud[:,1]\n",
    "z = point_cloud[:,2]\n",
    "\n",
    "las_dir = os.path.dirname(bpc_path) \n",
    "las_path = os.path.join(las_dir, \"point_cloud.las\")\n",
    "\n",
    "header = laspy.LasHeader(point_format=1, version=\"1.2\")\n",
    "las = laspy.LasData(header)\n",
    "las.x = np.array(x)\n",
    "las.y = np.array(y) \n",
    "las.z = np.array(z)\n",
    "\n",
    "las.write(las_path)\n",
    "\n"
   ]
  }
 ],
 "metadata": {
  "kernelspec": {
   "display_name": "LP_env",
   "language": "python",
   "name": "python3"
  },
  "language_info": {
   "codemirror_mode": {
    "name": "ipython",
    "version": 3
   },
   "file_extension": ".py",
   "mimetype": "text/x-python",
   "name": "python",
   "nbconvert_exporter": "python",
   "pygments_lexer": "ipython3",
   "version": "3.10.11"
  }
 },
 "nbformat": 4,
 "nbformat_minor": 2
}
